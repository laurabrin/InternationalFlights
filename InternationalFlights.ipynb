{
 "cells": [
  {
   "cell_type": "markdown",
   "metadata": {},
   "source": [
    "CMPT 2400: Exploratory Data Analysis Data Project\n",
    "Prepared by Laura Brin, Sandra Alex & Annabell Rodriguez"
   ]
  },
  {
   "cell_type": "markdown",
   "metadata": {},
   "source": [
    "loading libraries"
   ]
  },
  {
   "cell_type": "code",
   "execution_count": null,
   "metadata": {},
   "outputs": [],
   "source": [
    "import numpy as np\n",
    "import pandas as pd\n",
    "import matplotlib.pyplot as plt\n",
    "import seaborn as sns\n",
    "from sklearn.preprocessing import LabelEncoder\n",
    "from sklearn.preprocessing import MinMaxScaler\n",
    "from sklearn.neighbors import KNeighborsClassifier\n",
    "from sklearn.tree import DecisionTreeClassifier \n",
    "from sklearn.model_selection import train_test_split\n",
    "\n",
    "# This makes it so we are able to see 100 rows when displaying the data\n",
    "pd.set_option(\"display.max_rows\", 100)"
   ]
  },
  {
   "cell_type": "markdown",
   "metadata": {},
   "source": [
    "loading datasets"
   ]
  },
  {
   "cell_type": "code",
   "execution_count": null,
   "metadata": {},
   "outputs": [],
   "source": [
    "pass_df=pd.read_csv(\"dataset/International_Report_Passengers.csv\")\n",
    "depart_df=pd.read_csv(\"dataset/International_Report_Departures.csv\")"
   ]
  },
  {
   "cell_type": "markdown",
   "metadata": {},
   "source": [
    "### Posed Problem: Flight Delay Propagation Mitigation\n",
    "\n",
    "International travel involves a web of interconnected airports in hundreds of countries every day of the year. \n",
    "The ripple effect caused by a cancelled or delayed flight can cause issues with missed connections, missing baggage, carrier fines, reimbursed customers and staffing issues.\n",
    "\n",
    "According to the Federal Aviation Administration, Delay Propagation occurs when three conditions are met simultaneously (https://aspm.faa.gov/aspmhelp/index/Delay_Propagation.html#:~:text=Delay%20propagation%20occurs%20when%20a,identified%20by%20a%20tail%20number.):\n",
    "\n",
    "- A flight arrives late at an airport.\n",
    "- A flight departs late in subsequent stages.\n",
    "- A flight arrives late at the next destination.\n"
   ]
  },
  {
   "cell_type": "markdown",
   "metadata": {},
   "source": [
    "### Posed Solution\n",
    "\n",
    "We would like to pitch a ML solution using this dataset that would assist with real time decisions for domestic flight delays. When domestic flight centers experience multiple delays, air traffic decision makers can use the model to help predict which flights should be prioritized for take-off to reduce flight delay propagation into international connecting flights. It will do this by looking at the relationship between the flight's intended landing airport, the number of international airports that site connects with, how many flights leave that site, the region of the airport and the time of year."
   ]
  },
  {
   "cell_type": "markdown",
   "metadata": {},
   "source": [
    "### Observing Departures Dataset"
   ]
  },
  {
   "cell_type": "markdown",
   "metadata": {},
   "source": [
    "This dataset contains data on all the flights between US gateways and non-US gateways. It is a record of international flights departing US and can be used to highlight busiest airports, and peak times for flight volume\n",
    "\n",
    "There are multiple abbreviations used in this section:\n",
    "* DOT: Department of Transportation\n",
    "* FAA: Federal Aviation Administration\n",
    "* IATA: International Air Transportation Association\n",
    "* ICAO: International Civil Aviation Organization"
   ]
  },
  {
   "cell_type": "markdown",
   "metadata": {},
   "source": [
    "    #Laura"
   ]
  },
  {
   "cell_type": "markdown",
   "metadata": {},
   "source": [
    "#### Features\n",
    "\n",
    "Date- in MM/DD/YYYY format\n",
    "\n",
    "Year\n",
    "\n",
    "Month\n",
    "\n",
    "> usg_apt_id: US Gateway Airport ID- assigned by US DOT to identify airport\n",
    "\n",
    "> usg_apt: US Gateway Airport Code- usually assigned by IATA but in absence of IATA designation, may show FAA-assigned code. For full list of World Airport codes see the Bureau of Transportation Statistics: https://www.bts.gov/topics/airlines-and-airports/world-airport-codes \n",
    "\n",
    "        These two features are related. They represent the numerical location code (US) and three letter code for location identification, respectively. These should correlate 1:1 except where FAA coding was used in the absence of IATA coding. \n",
    "\n",
    "\n",
    "usg_wac: US Gateway World Area code- assigned by US DOT to represent a geographic territory. \n",
    "* 1-99 USA, \n",
    "* 100-199 Central America, \n",
    "* 200-299 Caribbean, Bahamas and Bermuda, \n",
    "* 300-399 South America, \n",
    "* 400-499 Europe, \n",
    "* 500-599 Africa, \n",
    "* 600-699 Middle East, \n",
    "* 700-800 Far East/Asia, \n",
    "* 801-899 Antarctica, Australasia and Oceania, \n",
    "* 900-999 Canada and Greenland \n",
    "codes groupings from https://en.wikipedia.org/wiki/World_Area_Codes\n",
    "\n",
    "\n",
    "\n",
    "> fg_apt_id: Foreign Gateway Airport ID-assigned by US DOT to identify an airport\n",
    "\n",
    "> fg_apt: Foreign Gateway Airport Code- usually assigned by IATA but in absence of IATA designation, may show FAA assigned code\n",
    "\n",
    "> fg_wac: Foreign Gateway World Area Code- Assigned by US DOT to represent territory. For code groups see above in usg_wac comments\n",
    "\n",
    "        These three features are related. They represent the five digit numerical location code (US), three letter code for location identification (International), and three digit numerical location code (international), respectively.\n",
    "\n",
    "> airlineid: Airline ID assigned by US DOT to identify an air carrier\n",
    "\n",
    "> carrier: IATA assigned air carrier code. If carrier has no IATA code, ICAO- or FAA assigned code may be used. These are mixed letter/number codes. For full list of air carrier codes see the Bureau of Transportation Statistics: https://www.bts.gov/topics/airlines-and-airports/airline-codes \n",
    "\n",
    "        These two features are related. They represent the five digit numerical airline ID (US) and the two or three character air carrier id (international). These should correlate 1:1 except where IATA coding was absent. \n",
    "\n",
    "carriergroup: group code. 1=US domestic air carriers, 0=foreign air carriers\n",
    "\n",
    "type: type of the metrics- this is a single code for this dataset= \"Departures\"\n",
    "\n",
    "> Scheduled: metric flow by scheduled service operations. Scheduled flights are those commercially available for indivdual purchase\n",
    "\n",
    "> Charter: metric flown by charter operations. Charter flights are booked by a group or consortium responsible for all seats on the flight. This is commonly reffered to as private flights\n",
    "\n",
    "        These two features are related. Flights are listed as either scheduled or charter. Flights on the same day, from the same airline id, with the same take off and landing sites are recorded as a count metric\n",
    "\n",
    "Total: scheduled+charter flight counts\n",
    "\n"
   ]
  },
  {
   "cell_type": "markdown",
   "metadata": {},
   "source": [
    "        Notes: \n",
    "need to set date format correctly\n",
    "year/month-numerical-any need for month to be in categorical?\n",
    "need to check where more than 2 usg_apt is assigned to usg_apt_id and relabel\n",
    "important pieces- US gatewayForeign Gateway and US_ world Area codeforeign world area code\n",
    "year,month,\n",
    "apt_ids and airlineid all as numeric-actually categorical\n",
    "should discuss if we want to include charter flights as the problem statement is directed towards scheduled flights"
   ]
  },
  {
   "cell_type": "code",
   "execution_count": null,
   "metadata": {},
   "outputs": [],
   "source": [
    "depart_df.head(20)"
   ]
  },
  {
   "cell_type": "code",
   "execution_count": null,
   "metadata": {},
   "outputs": [],
   "source": [
    "depart_df.describe()"
   ]
  },
  {
   "cell_type": "code",
   "execution_count": null,
   "metadata": {},
   "outputs": [],
   "source": [
    "depart_df.shape"
   ]
  },
  {
   "cell_type": "code",
   "execution_count": null,
   "metadata": {},
   "outputs": [],
   "source": [
    "depart_df.dtypes"
   ]
  },
  {
   "cell_type": "markdown",
   "metadata": {},
   "source": [
    "### Annabell"
   ]
  },
  {
   "cell_type": "markdown",
   "metadata": {},
   "source": [
    "This is a test"
   ]
  },
  {
   "cell_type": "code",
   "execution_count": null,
   "metadata": {},
   "outputs": [],
   "source": [
    "print(\"This is a test\")"
   ]
  },
  {
   "cell_type": "markdown",
   "metadata": {},
   "source": []
  },
  {
   "cell_type": "markdown",
   "metadata": {},
   "source": []
  },
  {
   "cell_type": "markdown",
   "metadata": {},
   "source": [
    "### Sandra"
   ]
  },
  {
   "cell_type": "markdown",
   "metadata": {},
   "source": []
  },
  {
   "cell_type": "markdown",
   "metadata": {},
   "source": []
  },
  {
   "cell_type": "markdown",
   "metadata": {},
   "source": []
  }
 ],
 "metadata": {
  "kernelspec": {
   "display_name": "Python 3.10.8 64-bit",
   "language": "python",
   "name": "python3"
  },
  "language_info": {
   "codemirror_mode": {
    "name": "ipython",
    "version": 3
   },
   "file_extension": ".py",
   "mimetype": "text/x-python",
   "name": "python",
   "nbconvert_exporter": "python",
   "pygments_lexer": "ipython3",
   "version": "3.10.8"
  },
  "orig_nbformat": 4,
  "vscode": {
   "interpreter": {
    "hash": "35ed5d7f523cc00db090bb0d1441ff939197785447eebdd396d675dd3643fa93"
   }
  }
 },
 "nbformat": 4,
 "nbformat_minor": 2
}
