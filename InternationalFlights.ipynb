{
 "cells": [
  {
   "cell_type": "markdown",
   "metadata": {},
   "source": [
    "CMPT 2400: Exploratory Data Analysis Data Project\n",
    "Prepared by Laura Brin, Sandra Alex & Annabell Rodriguez"
   ]
  },
  {
   "cell_type": "markdown",
   "metadata": {},
   "source": [
    "loading libraries"
   ]
  },
  {
   "cell_type": "code",
   "execution_count": null,
   "metadata": {},
   "outputs": [],
   "source": [
    "import numpy as np\n",
    "import pandas as pd\n",
    "import matplotlib.pyplot as plt\n",
    "import seaborn as sns\n",
    "from sklearn.preprocessing import LabelEncoder\n",
    "from sklearn.preprocessing import MinMaxScaler\n",
    "from sklearn.neighbors import KNeighborsClassifier\n",
    "from sklearn.tree import DecisionTreeClassifier \n",
    "from sklearn.model_selection import train_test_split\n",
    "import calendar\n",
    "from calendar import month_name as mn\n",
    "\n",
    "# This makes it so we are able to see 100 rows when displaying the data\n",
    "pd.set_option(\"display.max_rows\", 100)"
   ]
  },
  {
   "cell_type": "markdown",
   "metadata": {},
   "source": [
    "loading datasets"
   ]
  },
  {
   "cell_type": "code",
   "execution_count": null,
   "metadata": {},
   "outputs": [],
   "source": [
    "pass_df=pd.read_csv(\"dataset/International_Report_Passengers.csv\")\n",
    "depart_df=pd.read_csv(\"dataset/International_Report_Departures.csv\")\n",
    "world_airp_codes_df=pd.read_csv(\"dataset/world_airport_codes.csv\")"
   ]
  },
  {
   "cell_type": "markdown",
   "metadata": {},
   "source": [
    "### Posed Problem: Flight Delay Propagation Mitigation\n",
    "\n",
    "International travel involves a web of interconnected airports in hundreds of countries every day of the year. \n",
    "The ripple effect caused by a cancelled or delayed flight can cause issues with missed connections, missing baggage, carrier fines, reimbursed customers and staffing issues.\n",
    "\n",
    "According to the Federal Aviation Administration, Delay Propagation occurs when three conditions are met simultaneously (https://aspm.faa.gov/aspmhelp/index/Delay_Propagation.html#:~:text=Delay%20propagation%20occurs%20when%20a,identified%20by%20a%20tail%20number.):\n",
    "\n",
    "- A flight arrives late at an airport.\n",
    "- A flight departs late in subsequent stages.\n",
    "- A flight arrives late at the next destination.\n"
   ]
  },
  {
   "cell_type": "markdown",
   "metadata": {},
   "source": [
    "### Posed Solution\n",
    "\n",
    "We would like to pitch a ML solution using this dataset that would assist with real time decisions for domestic flight delays. When domestic flight centers experience multiple delays, air traffic decision makers can use the model to help predict which flights should be prioritized for take-off to reduce flight delay propagation into international connecting flights. It will do this by looking at the relationship between the flight's intended landing airport, the number of international airports that site connects with, how many flights leave that site, the region of the airport and the time of year."
   ]
  },
  {
   "cell_type": "markdown",
   "metadata": {},
   "source": [
    "### Observing Departures Dataset"
   ]
  },
  {
   "cell_type": "markdown",
   "metadata": {},
   "source": [
    "This dataset contains data on all the flights between US gateways and non-US gateways. It is a record of international flights departing US and can be used to highlight busiest airports, and peak times for flight volume\n",
    "\n",
    "There are multiple abbreviations used in this section:\n",
    "* DOT: Department of Transportation\n",
    "* FAA: Federal Aviation Administration\n",
    "* IATA: International Air Transportation Association\n",
    "* ICAO: International Civil Aviation Organization"
   ]
  },
  {
   "cell_type": "markdown",
   "metadata": {},
   "source": [
    "    #Laura"
   ]
  },
  {
   "cell_type": "markdown",
   "metadata": {},
   "source": [
    "#### Features\n",
    "\n",
    "Date- in MM/DD/YYYY format\n",
    "\n",
    "Year\n",
    "\n",
    "Month\n",
    "\n",
    "> usg_apt_id: US Gateway Airport ID- assigned by US DOT to identify airport\n",
    "\n",
    "> usg_apt: US Gateway Airport Code- usually assigned by IATA but in absence of IATA designation, may show FAA-assigned code. For full list of World Airport codes see the Bureau of Transportation Statistics: https://www.bts.gov/topics/airlines-and-airports/world-airport-codes \n",
    "\n",
    "        These two features are related. They represent the numerical location code (US) and three letter code for location identification, respectively. These should correlate 1:1 except where FAA coding was used in the absence of IATA coding. \n",
    "\n",
    "\n",
    "usg_wac: US Gateway World Area code- assigned by US DOT to represent a geographic territory. \n",
    "* 1-99 USA, \n",
    "* 100-199 Central America, \n",
    "* 200-299 Caribbean, Bahamas and Bermuda, \n",
    "* 300-399 South America, \n",
    "* 400-499 Europe, \n",
    "* 500-599 Africa, \n",
    "* 600-699 Middle East, \n",
    "* 700-800 Far East/Asia, \n",
    "* 801-899 Antarctica, Australasia and Oceania, \n",
    "* 900-999 Canada and Greenland \n",
    "codes groupings from https://en.wikipedia.org/wiki/World_Area_Codes\n",
    "\n",
    "\n",
    "\n",
    "> fg_apt_id: Foreign Gateway Airport ID-assigned by US DOT to identify an airport\n",
    "\n",
    "> fg_apt: Foreign Gateway Airport Code- usually assigned by IATA but in absence of IATA designation, may show FAA assigned code\n",
    "\n",
    "> fg_wac: Foreign Gateway World Area Code- Assigned by US DOT to represent territory. For code groups see above in usg_wac comments\n",
    "\n",
    "        These three features are related. They represent the five digit numerical location code (US), three letter code for location identification (International), and three digit numerical location code (international), respectively.\n",
    "\n",
    "> airlineid: Airline ID assigned by US DOT to identify an air carrier\n",
    "\n",
    "> carrier: IATA assigned air carrier code. If carrier has no IATA code, ICAO- or FAA assigned code may be used. These are mixed letter/number codes. For full list of air carrier codes see the Bureau of Transportation Statistics: https://www.bts.gov/topics/airlines-and-airports/airline-codes \n",
    "\n",
    "        These two features are related. They represent the five digit numerical airline ID (US) and the two or three character air carrier id (international). These should correlate 1:1 except where IATA coding was absent. \n",
    "\n",
    "carriergroup: group code. 1=US domestic air carriers, 0=foreign air carriers\n",
    "\n",
    "type: type of the metrics- this is a single code for this dataset= \"Departures\"\n",
    "\n",
    "> Scheduled: metric flow by scheduled service operations. Scheduled flights are those commercially available for indivdual purchase\n",
    "\n",
    "> Charter: metric flown by charter operations. Charter flights are booked by a group or consortium responsible for all seats on the flight. This is commonly reffered to as private flights\n",
    "\n",
    "        These two features are related. Flights are listed as either scheduled or charter. Flights on the same day, from the same airline id, with the same take off and landing sites are recorded as a count metric\n",
    "\n",
    "Total: scheduled+charter flight counts\n",
    "\n"
   ]
  },
  {
   "cell_type": "markdown",
   "metadata": {},
   "source": [
    "        Notes: \n",
    "need to set date format correctly\n",
    "year/month-numerical-any need for month to be in categorical?\n",
    "need to check where more than 2 usg_apt is assigned to usg_apt_id and relabel\n",
    "important pieces- US gatewayForeign Gateway and US_ world Area codeforeign world area code\n",
    "year,month,\n",
    "apt_ids and airlineid all as numeric-actually categorical\n",
    "should discuss if we want to include charter flights as the problem statement is directed towards scheduled flights"
   ]
  },
  {
   "cell_type": "code",
   "execution_count": null,
   "metadata": {},
   "outputs": [],
   "source": [
    "depart_df.head(20)"
   ]
  },
  {
   "cell_type": "code",
   "execution_count": null,
   "metadata": {},
   "outputs": [],
   "source": [
    "depart_df.describe()"
   ]
  },
  {
   "cell_type": "code",
   "execution_count": null,
   "metadata": {},
   "outputs": [],
   "source": [
    "depart_df.shape"
   ]
  },
  {
   "cell_type": "code",
   "execution_count": null,
   "metadata": {},
   "outputs": [],
   "source": [
    "depart_df.dtypes"
   ]
  },
  {
   "cell_type": "markdown",
   "metadata": {},
   "source": [
    "### Annabell"
   ]
  },
  {
   "cell_type": "markdown",
   "metadata": {},
   "source": [
    "#### Correting data types"
   ]
  },
  {
   "cell_type": "code",
   "execution_count": null,
   "metadata": {},
   "outputs": [],
   "source": [
    "# Change datatype of the date column\n",
    "### departures\n",
    "depart_df[\"data_dte\"] = pd.to_datetime(depart_df[\"data_dte\"])\n",
    "### passengers\n",
    "pass_df[\"data_dte\"] = pd.to_datetime(pass_df[\"data_dte\"])\n",
    "\n",
    "# Change datatype of the categories columns\n",
    "world_airp_code_type = pd.CategoricalDtype(categories=world_airp_codes_df['Code'].unique())\n",
    "departure_type_type = pd.CategoricalDtype(categories=[\"Departures\", \"Passengers\"])\n",
    "\n",
    "### departures\n",
    "depart_df['usg_apt'] = depart_df['usg_apt'].astype(world_airp_code_type)\n",
    "depart_df['fg_apt'] = depart_df['fg_apt'].astype(world_airp_code_type)\n",
    "depart_df['carrier'] = depart_df['carrier'].astype(world_airp_code_type)\n",
    "depart_df['type'] = depart_df['carrier'].astype(departure_type_type)\n",
    "\n",
    "### passengers\n",
    "pass_df['usg_apt'] = pass_df['usg_apt'].astype(world_airp_code_type)\n",
    "pass_df['fg_apt'] = pass_df['fg_apt'].astype(world_airp_code_type)\n",
    "pass_df['carrier'] = pass_df['carrier'].astype(world_airp_code_type)\n",
    "pass_df['type'] = pass_df['carrier'].astype(departure_type_type)\n"
   ]
  },
  {
   "cell_type": "code",
   "execution_count": null,
   "metadata": {},
   "outputs": [],
   "source": [
    "### departures\n",
    "depart_df.dtypes"
   ]
  },
  {
   "cell_type": "code",
   "execution_count": null,
   "metadata": {},
   "outputs": [],
   "source": [
    "### passengers\n",
    "pass_df.dtypes"
   ]
  },
  {
   "cell_type": "markdown",
   "metadata": {},
   "source": [
    "Observing the correlation between the columns"
   ]
  },
  {
   "cell_type": "code",
   "execution_count": null,
   "metadata": {},
   "outputs": [],
   "source": [
    "### departures\n",
    "df_c = depart_df.corr(numeric_only=True)\n",
    "df_c"
   ]
  },
  {
   "cell_type": "code",
   "execution_count": null,
   "metadata": {},
   "outputs": [],
   "source": [
    "### passengers\n",
    "pdf_c = pass_df.corr(numeric_only=True)\n",
    "pdf_c"
   ]
  },
  {
   "cell_type": "markdown",
   "metadata": {},
   "source": [
    "        We cannot appreciate an existing correlation between the numerical columns. The only association we can identify is between the scheduled column and the total column. Given that the total column displays the total of the scheduled and charter, this is to be expected. While it seems strange that there is no relationship between the charter and the sum. Let's look at the sum of these columns."
   ]
  },
  {
   "cell_type": "code",
   "execution_count": null,
   "metadata": {},
   "outputs": [],
   "source": [
    "### departures\n",
    "print(depart_df['Charter'].sum())\n",
    "print(depart_df['Scheduled'].sum())"
   ]
  },
  {
   "cell_type": "code",
   "execution_count": null,
   "metadata": {},
   "outputs": [],
   "source": [
    "### passengers\n",
    "print(pass_df['Charter'].sum())\n",
    "print(pass_df['Scheduled'].sum())"
   ]
  },
  {
   "cell_type": "markdown",
   "metadata": {},
   "source": [
    "        We can observe a significant disparity between them based on these totals. Since charter flights are less frequent, their occurrence has little impact on the total."
   ]
  },
  {
   "cell_type": "markdown",
   "metadata": {},
   "source": [
    "##### Analyzing seasonal patterns\n",
    "\n",
    "Grouping the totals by date and analyzing them in time. The column data_dte represents a month because the day is always 01."
   ]
  },
  {
   "cell_type": "code",
   "execution_count": null,
   "metadata": {},
   "outputs": [],
   "source": [
    "### departures\n",
    "plt.figure(figsize=(15,6))\n",
    "out_total = depart_df.groupby('data_dte')['Total'].sum().reset_index(name ='Total')\n",
    "sns.lineplot(x='data_dte',y='Total',data=out_total)\n",
    "plt.title(\"Total vs Date\")\n",
    "plt.xlabel(\"Date\")\n",
    "plt.ylabel(\"Total\")\n",
    "plt.show()"
   ]
  },
  {
   "cell_type": "code",
   "execution_count": null,
   "metadata": {},
   "outputs": [],
   "source": [
    "### departures\n",
    "out_total.describe()"
   ]
  },
  {
   "cell_type": "markdown",
   "metadata": {},
   "source": [
    "Analyzing Charter vs Scheduled"
   ]
  },
  {
   "cell_type": "code",
   "execution_count": null,
   "metadata": {},
   "outputs": [],
   "source": [
    "### departures\n",
    "plt.figure(figsize=(15,6))\n",
    "out_charter = depart_df.groupby('data_dte')['Charter'].sum().reset_index(name ='Charter')\n",
    "sns.lineplot(x='data_dte',y='Charter',data=out_charter)\n",
    "plt.title(\"Charter vs Date\")\n",
    "plt.xlabel(\"Date\")\n",
    "plt.ylabel(\"Charter\")\n",
    "plt.show()\n"
   ]
  },
  {
   "cell_type": "code",
   "execution_count": null,
   "metadata": {},
   "outputs": [],
   "source": [
    "### departures\n",
    "out_charter.describe()"
   ]
  },
  {
   "cell_type": "code",
   "execution_count": null,
   "metadata": {},
   "outputs": [],
   "source": [
    "### departures\n",
    "plt.figure(figsize=(15,6))\n",
    "out_scheduled = depart_df.groupby('data_dte')['Scheduled'].sum().reset_index(name ='Scheduled')\n",
    "sns.lineplot(x='data_dte',y='Scheduled',data=out_scheduled)\n",
    "plt.title(\"Scheduled vs Date\")\n",
    "plt.xlabel(\"Date\")\n",
    "plt.ylabel(\"Scheduled\")\n",
    "plt.show()"
   ]
  },
  {
   "cell_type": "code",
   "execution_count": null,
   "metadata": {},
   "outputs": [],
   "source": [
    "### departures\n",
    "out_scheduled.describe()"
   ]
  },
  {
   "cell_type": "markdown",
   "metadata": {},
   "source": [
    "        We must evaluate charter departures separately since, as we have already seen, they are less frequent than scheduled departures. The graphics demonstrate how this situation causes the entire curve to be almost equivalent to the scheduled one.\n",
    "\n",
    "        We are unable to identify a growth pattern in the chart of charter departures. Between 1990 and 1996, it grew; following that, it was relatively constant with some pikes until 2010, when it suddenly decreased. It then recovered, peaking in value in 2004, after which a steady drop started. This pattern can be traced back to 2010, when it suddenly increased at the beginning of 2020, reaching its greatest level since 1990, before beginning to drop in the months that followed. The maximum was 9382, and the average was about 5142. We can see some seasonality there; eventually, we'll look into it more thoroughly.\n",
    "\n",
    "        On the graph of the scheduled departures, there is a clear seasonality and an upward trend. Between 2000 to 2004, there was a decline, which swiftly recovered. In 2020, we started to notice the start of the pandemic's effects. Sadly, there are just a few months of this year in the dataset.\n"
   ]
  },
  {
   "cell_type": "markdown",
   "metadata": {},
   "source": [
    "##### Looking to the passengers dataframe"
   ]
  },
  {
   "cell_type": "code",
   "execution_count": null,
   "metadata": {},
   "outputs": [],
   "source": [
    "### passengers\n",
    "plt.figure(figsize=(15,6))\n",
    "out_total = pass_df.groupby('data_dte')['Total'].sum().reset_index(name ='Total')\n",
    "sns.lineplot(x='data_dte',y='Total',data=out_total)\n",
    "plt.title(\"Total vs Date passenger dataset\")\n",
    "plt.xlabel(\"Date\")\n",
    "plt.ylabel(\"Total\")\n",
    "plt.show()"
   ]
  },
  {
   "cell_type": "code",
   "execution_count": null,
   "metadata": {},
   "outputs": [],
   "source": [
    "### passengers\n",
    "out_total.describe()"
   ]
  },
  {
   "cell_type": "markdown",
   "metadata": {},
   "source": [
    "Analyzing Charter vs Scheduled"
   ]
  },
  {
   "cell_type": "code",
   "execution_count": null,
   "metadata": {},
   "outputs": [],
   "source": [
    "### passengers\n",
    "plt.figure(figsize=(15,6))\n",
    "out_charter = pass_df.groupby('data_dte')['Charter'].sum().reset_index(name ='Charter')\n",
    "sns.lineplot(x='data_dte',y='Charter',data=out_charter)\n",
    "plt.title(\"Charter vs Date passenger dataset\")\n",
    "plt.xlabel(\"Date\")\n",
    "plt.ylabel(\"Charter\")\n",
    "plt.show()"
   ]
  },
  {
   "cell_type": "code",
   "execution_count": null,
   "metadata": {},
   "outputs": [],
   "source": [
    "### passengers\n",
    "out_charter.describe()"
   ]
  },
  {
   "cell_type": "code",
   "execution_count": null,
   "metadata": {},
   "outputs": [],
   "source": [
    "### passengers\n",
    "plt.figure(figsize=(15,6))\n",
    "out_scheduled = pass_df.groupby('data_dte')['Scheduled'].sum().reset_index(name ='Scheduled')\n",
    "sns.lineplot(x='data_dte',y='Scheduled',data=out_scheduled)\n",
    "plt.title(\"Scheduled vs Date passenger dataset\")\n",
    "plt.xlabel(\"Date\")\n",
    "plt.ylabel(\"Scheduled\")\n",
    "plt.show()"
   ]
  },
  {
   "cell_type": "code",
   "execution_count": null,
   "metadata": {},
   "outputs": [],
   "source": [
    "### passengers\n",
    "out_scheduled.describe()"
   ]
  },
  {
   "cell_type": "markdown",
   "metadata": {},
   "source": [
    "        The graphs show how comparable the patterns in the passenger dataset are to those in the departure dataset.\n",
    "\n",
    "        In the case of charters, there is a propensity for this to decrease over time. With a little gain in the early years, roughly from 1990 to 1994, it then starts to decline. Some seasonality exists.\n",
    "\n",
    "        However, the trend is upward for those that are scheduled. The reduction between 2000 and 2004 is also visible, but it subsequently resumed its upward trend until 2020, when it abruptly fell, as we now know due to the pandemic. There is a visible seasonality."
   ]
  },
  {
   "cell_type": "markdown",
   "metadata": {},
   "source": [
    "##### Analizing the last five years"
   ]
  },
  {
   "cell_type": "code",
   "execution_count": null,
   "metadata": {},
   "outputs": [],
   "source": [
    "# month list\n",
    "months = mn[1:]\n",
    "\n",
    "### departures\n",
    "max_year_depart = depart_df[\"Year\"].max()\n",
    "### passengers\n",
    "max_year_pass = pass_df[\"Year\"].max()\n",
    "\n",
    "### departures\n",
    "depart_df['month_category'] = depart_df['Month'].apply(lambda x: calendar.month_name[x])\n",
    "\n",
    "### passengers\n",
    "pass_df['month_category'] = pass_df['Month'].apply(lambda x: calendar.month_name[x])\n",
    "\n",
    "# convert the column to categorical and ordered\n",
    "### departures\n",
    "depart_df[\"month_category\"] = pd.Categorical(depart_df[\"month_category\"], categories=months, ordered=True)\n",
    "### passengers\n",
    "pass_df[\"month_category\"] = pd.Categorical(pass_df[\"month_category\"], categories=months, ordered=True)\n",
    "\n",
    "### departures\n",
    "depart_df_last_5_years = depart_df.loc[(depart_df['Year'] >= (max_year_depart-4)) & (depart_df['Year'] <= max_year_depart)]\n",
    "### passengers\n",
    "pass_df_last_5_years = pass_df.loc[(pass_df['Year'] >= (max_year_pass-4)) & (pass_df['Year'] <= max_year_pass)]"
   ]
  },
  {
   "cell_type": "code",
   "execution_count": null,
   "metadata": {},
   "outputs": [],
   "source": [
    "### departures\n",
    "sns.relplot(kind='line', data=depart_df_last_5_years, x='month_category', y='Scheduled', hue='Year', aspect=2.5, marker='o', errorbar=None, height=5)\n",
    "plt.title(\"Scheduled vs Month last five years (Departures dataset)\")\n",
    "plt.xlabel(\"Month\")\n",
    "plt.ylabel(\"Scheduled\")\n",
    "plt.show()"
   ]
  },
  {
   "cell_type": "code",
   "execution_count": null,
   "metadata": {},
   "outputs": [],
   "source": [
    "### passengers\n",
    "sns.relplot(kind='line', data=pass_df_last_5_years, x='month_category', y='Scheduled', hue='Year', aspect=2.5, marker='o', errorbar=None, height=5)\n",
    "plt.title(\"Scheduled vs Month last five years (Passengers dataset)\")\n",
    "plt.xlabel(\"Month\")\n",
    "plt.ylabel(\"Scheduled\")\n",
    "plt.show()\n"
   ]
  },
  {
   "cell_type": "markdown",
   "metadata": {},
   "source": [
    "        We can see the seasonality in these two graphs. In the case of the scheduled flights, there are several similarities between the two datasets. The largest numbers are in July and August, while the lowest values are in February. After beginning in January about the middle, it drops in February, climbs in March, and diminishes in April . Then, beginning in May, the amount rises through August before falling in September, grows a little in October, drops off in November, then picks back up in December. Over the past five years, there has been a recurring pattern.\n",
    "\n",
    "        2020 is the exception. Due to the epidemic, it should have increased in March but instead fell to its lowest level."
   ]
  },
  {
   "cell_type": "code",
   "execution_count": null,
   "metadata": {},
   "outputs": [],
   "source": [
    "### departures\n",
    "sns.relplot(kind='line', data=depart_df_last_5_years, x='month_category', y='Charter', hue='Year', aspect=2.5, marker='o', errorbar=None, height=5)\n",
    "plt.title(\"Charter vs Month last five years (Departures dataset)\")\n",
    "plt.xlabel(\"Month\")\n",
    "plt.ylabel(\"Charter\")\n",
    "plt.show()"
   ]
  },
  {
   "cell_type": "code",
   "execution_count": null,
   "metadata": {},
   "outputs": [],
   "source": [
    "### passengers\n",
    "sns.relplot(kind='line', data=pass_df_last_5_years, x='month_category', y='Charter', hue='Year', aspect=2.5, marker='o', errorbar=None, height=5)\n",
    "plt.title(\"Charter vs Month last five years (Passengers dataset)\")\n",
    "plt.xlabel(\"Month\")\n",
    "plt.ylabel(\"Charter\")\n",
    "plt.show()"
   ]
  },
  {
   "cell_type": "markdown",
   "metadata": {},
   "source": [
    "        It differs between the two datasets for charter flights.\n",
    "\n",
    "        With the exception of October 2018, which grew significantly more than the rest of the years, the departures dataset's seasonality can be appreciated during the first three years of analysis. However, 2019 follows a different pattern, and the values rise much more dramatically. Up to March, the final month we have, it seems to start recovering the old pattern in 2020. The values here are lowest in the initial years.\n",
    "\n",
    "        In contrast, the passenger dataset's beginning years had the highest numbers, and 2019 shows a fall. 2020 is out of the question because of the enormous behavioural change brought on by the epidemic.\n",
    "\n"
   ]
  },
  {
   "cell_type": "markdown",
   "metadata": {},
   "source": []
  },
  {
   "cell_type": "markdown",
   "metadata": {},
   "source": []
  },
  {
   "cell_type": "markdown",
   "metadata": {},
   "source": [
    "### Sandra"
   ]
  },
  {
   "cell_type": "markdown",
   "metadata": {},
   "source": []
  },
  {
   "cell_type": "markdown",
   "metadata": {},
   "source": []
  },
  {
   "cell_type": "markdown",
   "metadata": {},
   "source": []
  }
 ],
 "metadata": {
  "kernelspec": {
   "display_name": "Python 3.10.8 64-bit",
   "language": "python",
   "name": "python3"
  },
  "language_info": {
   "codemirror_mode": {
    "name": "ipython",
    "version": 3
   },
   "file_extension": ".py",
   "mimetype": "text/x-python",
   "name": "python",
   "nbconvert_exporter": "python",
   "pygments_lexer": "ipython3",
   "version": "3.10.8"
  },
  "orig_nbformat": 4,
  "vscode": {
   "interpreter": {
    "hash": "35ed5d7f523cc00db090bb0d1441ff939197785447eebdd396d675dd3643fa93"
   }
  }
 },
 "nbformat": 4,
 "nbformat_minor": 2
}
